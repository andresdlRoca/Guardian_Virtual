{
 "cells": [
  {
   "cell_type": "markdown",
   "metadata": {},
   "source": [
    "# Modelo de deteccion de phishing en URLs\n",
    "### Modelos a utilizar: SVM, Random Forest y Naive Bayes"
   ]
  },
  {
   "cell_type": "markdown",
   "metadata": {},
   "source": [
    "Referencias:  \n",
    "Tiwari, T. (2020). Phishing Site URLs https://www.kaggle.com/datasets/taruntiwarihp/phishing-site-urls?resource=download\n"
   ]
  },
  {
   "cell_type": "markdown",
   "metadata": {},
   "source": [
    "#### Analisis Exploratorio"
   ]
  },
  {
   "cell_type": "code",
   "execution_count": 1,
   "metadata": {},
   "outputs": [],
   "source": [
    "import pandas as pd\n",
    "import numpy as np\n",
    "import re\n",
    "from collections import Counter\n",
    "import matplotlib.pyplot as plt\n",
    "import seaborn as sns\n",
    "%matplotlib inline"
   ]
  },
  {
   "cell_type": "code",
   "execution_count": 2,
   "metadata": {},
   "outputs": [
    {
     "name": "stdout",
     "output_type": "stream",
     "text": [
      "1.5.2\n"
     ]
    }
   ],
   "source": [
    "# Get sklearn version\n",
    "import sklearn\n",
    "print(sklearn.__version__)"
   ]
  },
  {
   "cell_type": "code",
   "execution_count": 3,
   "metadata": {},
   "outputs": [
    {
     "data": {
      "text/html": [
       "<div>\n",
       "<style scoped>\n",
       "    .dataframe tbody tr th:only-of-type {\n",
       "        vertical-align: middle;\n",
       "    }\n",
       "\n",
       "    .dataframe tbody tr th {\n",
       "        vertical-align: top;\n",
       "    }\n",
       "\n",
       "    .dataframe thead th {\n",
       "        text-align: right;\n",
       "    }\n",
       "</style>\n",
       "<table border=\"1\" class=\"dataframe\">\n",
       "  <thead>\n",
       "    <tr style=\"text-align: right;\">\n",
       "      <th></th>\n",
       "      <th>URL</th>\n",
       "      <th>Label</th>\n",
       "    </tr>\n",
       "  </thead>\n",
       "  <tbody>\n",
       "    <tr>\n",
       "      <th>0</th>\n",
       "      <td>nobell.it/70ffb52d079109dca5664cce6f317373782/...</td>\n",
       "      <td>bad</td>\n",
       "    </tr>\n",
       "    <tr>\n",
       "      <th>1</th>\n",
       "      <td>www.dghjdgf.com/paypal.co.uk/cycgi-bin/webscrc...</td>\n",
       "      <td>bad</td>\n",
       "    </tr>\n",
       "    <tr>\n",
       "      <th>2</th>\n",
       "      <td>serviciosbys.com/paypal.cgi.bin.get-into.herf....</td>\n",
       "      <td>bad</td>\n",
       "    </tr>\n",
       "    <tr>\n",
       "      <th>3</th>\n",
       "      <td>mail.printakid.com/www.online.americanexpress....</td>\n",
       "      <td>bad</td>\n",
       "    </tr>\n",
       "    <tr>\n",
       "      <th>4</th>\n",
       "      <td>thewhiskeydregs.com/wp-content/themes/widescre...</td>\n",
       "      <td>bad</td>\n",
       "    </tr>\n",
       "    <tr>\n",
       "      <th>5</th>\n",
       "      <td>smilesvoegol.servebbs.org/voegol.php</td>\n",
       "      <td>bad</td>\n",
       "    </tr>\n",
       "    <tr>\n",
       "      <th>6</th>\n",
       "      <td>premierpaymentprocessing.com/includes/boleto-2...</td>\n",
       "      <td>bad</td>\n",
       "    </tr>\n",
       "    <tr>\n",
       "      <th>7</th>\n",
       "      <td>myxxxcollection.com/v1/js/jih321/bpd.com.do/do...</td>\n",
       "      <td>bad</td>\n",
       "    </tr>\n",
       "    <tr>\n",
       "      <th>8</th>\n",
       "      <td>super1000.info/docs</td>\n",
       "      <td>bad</td>\n",
       "    </tr>\n",
       "    <tr>\n",
       "      <th>9</th>\n",
       "      <td>horizonsgallery.com/js/bin/ssl1/_id/www.paypal...</td>\n",
       "      <td>bad</td>\n",
       "    </tr>\n",
       "  </tbody>\n",
       "</table>\n",
       "</div>"
      ],
      "text/plain": [
       "                                                 URL Label\n",
       "0  nobell.it/70ffb52d079109dca5664cce6f317373782/...   bad\n",
       "1  www.dghjdgf.com/paypal.co.uk/cycgi-bin/webscrc...   bad\n",
       "2  serviciosbys.com/paypal.cgi.bin.get-into.herf....   bad\n",
       "3  mail.printakid.com/www.online.americanexpress....   bad\n",
       "4  thewhiskeydregs.com/wp-content/themes/widescre...   bad\n",
       "5               smilesvoegol.servebbs.org/voegol.php   bad\n",
       "6  premierpaymentprocessing.com/includes/boleto-2...   bad\n",
       "7  myxxxcollection.com/v1/js/jih321/bpd.com.do/do...   bad\n",
       "8                                super1000.info/docs   bad\n",
       "9  horizonsgallery.com/js/bin/ssl1/_id/www.paypal...   bad"
      ]
     },
     "execution_count": 3,
     "metadata": {},
     "output_type": "execute_result"
    }
   ],
   "source": [
    "df = pd.read_csv(\"datasets/URLs/phishing_site_urls.csv\")\n",
    "df.head(10)"
   ]
  },
  {
   "cell_type": "code",
   "execution_count": 4,
   "metadata": {},
   "outputs": [
    {
     "name": "stdout",
     "output_type": "stream",
     "text": [
      "<class 'pandas.core.frame.DataFrame'>\n",
      "RangeIndex: 549346 entries, 0 to 549345\n",
      "Data columns (total 2 columns):\n",
      " #   Column  Non-Null Count   Dtype \n",
      "---  ------  --------------   ----- \n",
      " 0   URL     549346 non-null  object\n",
      " 1   Label   549346 non-null  object\n",
      "dtypes: object(2)\n",
      "memory usage: 8.4+ MB\n"
     ]
    }
   ],
   "source": [
    "df.info()"
   ]
  },
  {
   "cell_type": "code",
   "execution_count": 5,
   "metadata": {},
   "outputs": [
    {
     "data": {
      "text/plain": [
       "(549346, 2)"
      ]
     },
     "execution_count": 5,
     "metadata": {},
     "output_type": "execute_result"
    }
   ],
   "source": [
    "df.shape"
   ]
  },
  {
   "cell_type": "markdown",
   "metadata": {},
   "source": [
    "La data consiste de 549346 filas que contienen su respectivo URL y etiqueta que denota si el URL es seguro (good) o es malicioso/phishing (bad)."
   ]
  },
  {
   "cell_type": "code",
   "execution_count": 6,
   "metadata": {},
   "outputs": [
    {
     "data": {
      "text/html": [
       "<div>\n",
       "<style scoped>\n",
       "    .dataframe tbody tr th:only-of-type {\n",
       "        vertical-align: middle;\n",
       "    }\n",
       "\n",
       "    .dataframe tbody tr th {\n",
       "        vertical-align: top;\n",
       "    }\n",
       "\n",
       "    .dataframe thead th {\n",
       "        text-align: right;\n",
       "    }\n",
       "</style>\n",
       "<table border=\"1\" class=\"dataframe\">\n",
       "  <thead>\n",
       "    <tr style=\"text-align: right;\">\n",
       "      <th></th>\n",
       "      <th>URL</th>\n",
       "      <th>Label</th>\n",
       "    </tr>\n",
       "  </thead>\n",
       "  <tbody>\n",
       "    <tr>\n",
       "      <th>242411</th>\n",
       "      <td>sportsillustrated.cnn.com/football/ncaa/teams/...</td>\n",
       "      <td>good</td>\n",
       "    </tr>\n",
       "    <tr>\n",
       "      <th>393708</th>\n",
       "      <td>msstate.edu/web/friends/</td>\n",
       "      <td>good</td>\n",
       "    </tr>\n",
       "    <tr>\n",
       "      <th>383030</th>\n",
       "      <td>manta.com/c/mmfmt2c/matt-viehe</td>\n",
       "      <td>good</td>\n",
       "    </tr>\n",
       "    <tr>\n",
       "      <th>453619</th>\n",
       "      <td>tvguide.com/celebrities/jeff-bennett/credits/1...</td>\n",
       "      <td>good</td>\n",
       "    </tr>\n",
       "    <tr>\n",
       "      <th>471870</th>\n",
       "      <td>youtube.com/watch?v=9ndmCIg5q1s</td>\n",
       "      <td>good</td>\n",
       "    </tr>\n",
       "  </tbody>\n",
       "</table>\n",
       "</div>"
      ],
      "text/plain": [
       "                                                      URL Label\n",
       "242411  sportsillustrated.cnn.com/football/ncaa/teams/...  good\n",
       "393708                           msstate.edu/web/friends/  good\n",
       "383030                     manta.com/c/mmfmt2c/matt-viehe  good\n",
       "453619  tvguide.com/celebrities/jeff-bennett/credits/1...  good\n",
       "471870                    youtube.com/watch?v=9ndmCIg5q1s  good"
      ]
     },
     "execution_count": 6,
     "metadata": {},
     "output_type": "execute_result"
    }
   ],
   "source": [
    "df[df.Label == 'good'].sample(5)"
   ]
  },
  {
   "cell_type": "code",
   "execution_count": 7,
   "metadata": {},
   "outputs": [
    {
     "data": {
      "text/html": [
       "<div>\n",
       "<style scoped>\n",
       "    .dataframe tbody tr th:only-of-type {\n",
       "        vertical-align: middle;\n",
       "    }\n",
       "\n",
       "    .dataframe tbody tr th {\n",
       "        vertical-align: top;\n",
       "    }\n",
       "\n",
       "    .dataframe thead th {\n",
       "        text-align: right;\n",
       "    }\n",
       "</style>\n",
       "<table border=\"1\" class=\"dataframe\">\n",
       "  <thead>\n",
       "    <tr style=\"text-align: right;\">\n",
       "      <th></th>\n",
       "      <th>URL</th>\n",
       "      <th>Label</th>\n",
       "    </tr>\n",
       "  </thead>\n",
       "  <tbody>\n",
       "    <tr>\n",
       "      <th>539963</th>\n",
       "      <td>mediawonder.info/</td>\n",
       "      <td>bad</td>\n",
       "    </tr>\n",
       "    <tr>\n",
       "      <th>138652</th>\n",
       "      <td>bjcurio.com/js/index.htm?ref=http://rfiotvgus....</td>\n",
       "      <td>bad</td>\n",
       "    </tr>\n",
       "    <tr>\n",
       "      <th>2471</th>\n",
       "      <td>lnk.co/346H?dfg4gh?roberto.morassi@poste.it</td>\n",
       "      <td>bad</td>\n",
       "    </tr>\n",
       "    <tr>\n",
       "      <th>103920</th>\n",
       "      <td>unusualarts.co.uk/Doc/office365/index.php</td>\n",
       "      <td>bad</td>\n",
       "    </tr>\n",
       "    <tr>\n",
       "      <th>499162</th>\n",
       "      <td>mccrarys.us/4GBrdf6</td>\n",
       "      <td>bad</td>\n",
       "    </tr>\n",
       "  </tbody>\n",
       "</table>\n",
       "</div>"
      ],
      "text/plain": [
       "                                                      URL Label\n",
       "539963                                  mediawonder.info/   bad\n",
       "138652  bjcurio.com/js/index.htm?ref=http://rfiotvgus....   bad\n",
       "2471          lnk.co/346H?dfg4gh?roberto.morassi@poste.it   bad\n",
       "103920          unusualarts.co.uk/Doc/office365/index.php   bad\n",
       "499162                                mccrarys.us/4GBrdf6   bad"
      ]
     },
     "execution_count": 7,
     "metadata": {},
     "output_type": "execute_result"
    }
   ],
   "source": [
    "df[df.Label == 'bad'].sample(5)"
   ]
  },
  {
   "cell_type": "code",
   "execution_count": 8,
   "metadata": {},
   "outputs": [
    {
     "data": {
      "text/plain": [
       "URL      0\n",
       "Label    0\n",
       "dtype: int64"
      ]
     },
     "execution_count": 8,
     "metadata": {},
     "output_type": "execute_result"
    }
   ],
   "source": [
    "df.isnull().sum()"
   ]
  },
  {
   "cell_type": "code",
   "execution_count": 32,
   "metadata": {},
   "outputs": [
    {
     "data": {
      "text/plain": [
       "<Axes: xlabel='Label', ylabel='count'>"
      ]
     },
     "execution_count": 32,
     "metadata": {},
     "output_type": "execute_result"
    },
    {
     "data": {
      "image/png": "[encoded data removed]",
      "text/plain": [
       "<Figure size 640x480 with 1 Axes>"
      ]
     },
     "metadata": {},
     "output_type": "display_data"
    }
   ],
   "source": [
    "sns.countplot(x='Label', data=df, hue='Label')"
   ]
  },
  {
   "cell_type": "markdown",
   "metadata": {},
   "source": [
    "#### Ingenieria de Caracteristicas"
   ]
  },
  {
   "cell_type": "code",
   "execution_count": 10,
   "metadata": {},
   "outputs": [],
   "source": [
    "from six.moves import cPickle as pickle\n",
    "with open('datasets/URLs/d_common_en_words' + '.pickle', 'rb') as f:\n",
    "    d = pickle.load(f)"
   ]
  },
  {
   "cell_type": "code",
   "execution_count": 11,
   "metadata": {},
   "outputs": [],
   "source": [
    "def entropyShanon (x):\n",
    "    # Calculate Shannon Entropy\n",
    "    prob = [ float(x.count(c)) / len(x) for c in dict.fromkeys(list(x)) ]\n",
    "    H = - sum([ p * np.log2(p) for p in prob ])\n",
    "    return H\n",
    "\n",
    "def firstDigitIndex(s):\n",
    "    for i, c in enumerate(s):\n",
    "        if c.isdigit():\n",
    "            return i + 1\n",
    "    return 0\n",
    "\n",
    "def vowel_consonant_ratio (x):\n",
    "    # Calculate vowel to consonant ratio\n",
    "    x = x.lower()\n",
    "    vowels_pattern = re.compile('([aeiou])')\n",
    "    consonants_pattern = re.compile('([b-df-hj-np-tv-z])')\n",
    "    vowels = re.findall(vowels_pattern, x)\n",
    "    consonants = re.findall(consonants_pattern, x)\n",
    "    try:\n",
    "        ratio = len(vowels) / len(consonants)\n",
    "    except: # catch zero devision exception\n",
    "        ratio = 0\n",
    "    return ratio\n",
    "\n",
    "# ngrams: Implementation according to Schiavoni 2014: \"Phoenix: DGA-based Botnet Tracking and Intelligence\"\n",
    "# http://s2lab.isg.rhul.ac.uk/papers/files/dimva2014.pdf\n",
    "\n",
    "def ngrams(word, n):\n",
    "    # Extract all ngrams and return a regular Python list\n",
    "    # Input word: can be a simple string or a list of strings\n",
    "    # Input n: Can be one integer or a list of integers\n",
    "    # if you want to extract multipe ngrams and have them all in one list\n",
    "\n",
    "    l_ngrams = []\n",
    "    if isinstance(word, list):\n",
    "        for w in word:\n",
    "            if isinstance(n, list):\n",
    "                for curr_n in n:\n",
    "                    ngrams = [w[i:i+curr_n] for i in range(0,len(w)-curr_n+1)]\n",
    "                    l_ngrams.extend(ngrams)\n",
    "            else:\n",
    "                ngrams = [w[i:i+n] for i in range(0,len(w)-n+1)]\n",
    "                l_ngrams.extend(ngrams)\n",
    "    else:\n",
    "        if isinstance(n, list):\n",
    "            for curr_n in n:\n",
    "                ngrams = [word[i:i+curr_n] for i in range(0,len(word)-curr_n+1)]\n",
    "                l_ngrams.extend(ngrams)\n",
    "        else:\n",
    "            ngrams = [word[i:i+n] for i in range(0,len(word)-n+1)]\n",
    "            l_ngrams.extend(ngrams)\n",
    "#     print(l_ngrams)\n",
    "    return l_ngrams\n",
    "\n",
    "def ngram_feature(domain, d, n):\n",
    "    # Input is your domain string or list of domain strings\n",
    "    # a dictionary object d that contains the count for most common english words\n",
    "    # finally you n either as int list or simple int defining the ngram length\n",
    "\n",
    "    # Core magic: Looks up domain ngrams in english dictionary ngrams and sums up the\n",
    "    # respective english dictionary counts for the respective domain ngram\n",
    "    # sum is normalized\n",
    "\n",
    "    l_ngrams = ngrams(domain, n)\n",
    "#     print(l_ngrams)\n",
    "    count_sum=0\n",
    "    for ngram in l_ngrams:\n",
    "        if d[ngram]:\n",
    "            count_sum+=d[ngram]\n",
    "    try:\n",
    "        feature = count_sum/(len(domain)-n+1)\n",
    "    except:\n",
    "        feature = 0\n",
    "    return feature\n",
    "\n",
    "def average_ngram_feature(l_ngram_feature):\n",
    "    # input is a list of calls to ngram_feature(domain, d, n)\n",
    "    # usually you would use various n values, like 1,2,3...\n",
    "    return sum(l_ngram_feature)/len(l_ngram_feature)\n",
    "\n",
    "\n",
    "#Extraido de https://redcanary.com/blog/threat-hunting-entropy/\n",
    "def relative_entropy(data):\n",
    "    # Remove TLDs and instances of 'www' so 'www.google.com' would be treated as 'google' and 'images.google.com' would be 'images.google'.\n",
    "    \n",
    "    # print(data)\n",
    "    data = data.replace('www.', '')\n",
    "    # Remove http:// and https://.\n",
    "    data = data.split('://')[-1]\n",
    "    # Remove subdomains.\n",
    "    data = data.split('.')[0]\n",
    "\n",
    "    if \"/\" in data:\n",
    "        data = data.split('/')[0]\n",
    "\n",
    "    data = data.lower()\n",
    "\n",
    "    #Calculate the relative entropy (Kullback-Leibler divergence) between data and expected values.\n",
    "    entropy = 0.0\n",
    "    length = len(data) * 1.0\n",
    "\n",
    "    try:\n",
    "\n",
    "        if length > 0:\n",
    "            cnt = Counter(data)\n",
    "\n",
    "            # These probability numbers were calculated from the Alexa Top\n",
    "            # 1 million domains as of September 15th, 2017. TLDs and instances\n",
    "            # of 'www' were removed so 'www.google.com' would be treated as\n",
    "            # 'google' and 'images.google.com' would be 'images.google'.\n",
    "            probabilities = {\n",
    "                '-': 0.013342298553905901,\n",
    "                '_': 9.04562613824129e-06,\n",
    "                '0': 0.0024875471880163543,\n",
    "                '1': 0.004884638114650296,\n",
    "                '2': 0.004373560237839663,\n",
    "                '3': 0.0021136613076357144,\n",
    "                '4': 0.001625197496170685,\n",
    "                '5': 0.0013070929769758662,\n",
    "                '6': 0.0014880054997406921,\n",
    "                '7': 0.001471421851820583,\n",
    "                '8': 0.0012663876593537805,\n",
    "                '9': 0.0010327089841158806,\n",
    "                'a': 0.07333590631143488,\n",
    "                'b': 0.04293204925644953,\n",
    "                'c': 0.027385633133525503,\n",
    "                'd': 0.02769469202658208,\n",
    "                'e': 0.07086192756262588,\n",
    "                'f': 0.01249653250998034,\n",
    "                'g': 0.038516276096631406,\n",
    "                'h': 0.024017645001386995,\n",
    "                'i': 0.060447396668797414,\n",
    "                'j': 0.007082725266242929,\n",
    "                'k': 0.01659570875496002,\n",
    "                'l': 0.05815885325582237,\n",
    "                'm': 0.033884915513851865,\n",
    "                'n': 0.04753175014774523,\n",
    "                'o': 0.09413783122067709,\n",
    "                'p': 0.042555148167356144,\n",
    "                'q': 0.0017231917793349655,\n",
    "                'r': 0.06460084667060655,\n",
    "                's': 0.07214640647425614,\n",
    "                't': 0.06447722311338391,\n",
    "                'u': 0.034792493336388744,\n",
    "                'v': 0.011637198026847418,\n",
    "                'w': 0.013318176884203925,\n",
    "                'x': 0.003170491961453572,\n",
    "                'y': 0.016381628936354975,\n",
    "                'z': 0.004715786426736459,\n",
    "            }\n",
    "\n",
    "            for char, count in cnt.items():\n",
    "                observed = count / length\n",
    "                expected = probabilities[char]\n",
    "                entropy += observed * np.log2(observed / expected)\n",
    "\n",
    "            return entropy\n",
    "        \n",
    "    except Exception as e:\n",
    "        return\n",
    "    \n",
    "\n",
    "# Presencia de direccion IP en la URL\n",
    "def ip_address_presence (x):\n",
    "    # Check for IP address in URL\n",
    "    ip_pattern = re.compile('((25[0-5]|2[0-4][0-9]|[01]?[0-9][0-9]?)\\.){3}(25[0-5]|2[0-4][0-9]|[01]?[0-9][0-9]?)')\n",
    "    if re.search(ip_pattern, x):\n",
    "        return 1\n",
    "    else:\n",
    "        return 0\n",
    "\n",
    "\n",
    "# Caracteres especiales en la URL\n",
    "def special_chars_presence (x):\n",
    "    # Check for special characters in URL\n",
    "    special_chars_pattern = re.compile('([%$&+,:;=?@#|])')\n",
    "    if re.search(special_chars_pattern, x):\n",
    "        return 1\n",
    "    else:\n",
    "        return 0\n",
    "\n",
    "# Presencia de puertos en la URL\n",
    "def port_presence (x):\n",
    "    # Check for port in URL\n",
    "    port_pattern = re.compile('(:[0-9]+)')\n",
    "    if re.search(port_pattern, x):\n",
    "        return 1\n",
    "    else:\n",
    "        return 0\n",
    "\n",
    "# Cantidad de subdominios en la URL\n",
    "def subdomain_count (x):\n",
    "    # Count subdomains\n",
    "    subdomains = x.split('.')\n",
    "    return len(subdomains)\n",
    "\n",
    "# Cantidad de terminos comunes en la URL (www, com, net, org, etc)\n",
    "\n",
    "def common_terms_count (x):\n",
    "    # Count common terms\n",
    "    common_terms = ['www', 'com', 'net', 'org', 'info', 'biz', 'us', 'uk', 'ca', 'de', 'jp', 'fr', 'au', 'in', 'it', 'cn', 'gov', 'https', 'http', '//']\n",
    "    count = 0\n",
    "    for term in common_terms:\n",
    "        if term in x:\n",
    "            count += 1\n",
    "    return count\n",
    "\n",
    "# Presencia de guiones en la URL\n",
    "def hyphen_presence (x):\n",
    "    # Check for hyphens in URL\n",
    "    hyphen_pattern = re.compile('(-)')\n",
    "    if re.search(hyphen_pattern, x):\n",
    "        return 1\n",
    "    else:\n",
    "        return 0\n",
    "\n",
    "# Presencia de doble guion bajo en la URL\n",
    "def double_hyphen_presence (x):\n",
    "    # Check for double hyphens in URL\n",
    "    double_hyphen_pattern = re.compile('(__)')\n",
    "    if re.search(double_hyphen_pattern, x):\n",
    "        return 1\n",
    "    else:\n",
    "        return 0\n",
    "\n",
    "# URL Acortada\n",
    "def shortening_service_presence (x):\n",
    "    # Check for shortening service in URL\n",
    "    shortening_services = ['bit.ly', 'goo.gl', 'tinyurl.com', 'ow.ly', 't.co', 'tiny.cc', 'bit.do', 'mcaf.ee', 'cli.gs', 'yfrog.com', 'twit.ac', 'su.pr', 'lnkd.in', 'db.tt', 'qr.ae', 'adf.ly', 'goo.gl', 'bitly.com', 'cur.lv', 'tiny.cl', 'po.st', 'bc.vc', 'twitthis.com', 'u.to', 'j.mp', 'buzurl.com', 'cutt.us', 'u.bb', 'yourls.org', 'x.co', 'prettylinkpro.com', 'scrnch.me', 'filoops.info', 'vzturl.com', 'qr.net', '1url.com', 'tweez.me', 'v.gd', 'tr.im', 'link.zip.net']\n",
    "    for service in shortening_services:\n",
    "        if service in x:\n",
    "            return 1\n",
    "    return 0\n",
    "\n",
    "# Subdominios abnormales\n",
    "def abnormal_subdomain_presence (x):\n",
    "    # Check for abnormal subdomains\n",
    "    abnormal_subdomains = ['sc', 'dc', 'oc', 'ac', 'info', 'mail', 'home', 'corp', 'download', 'product', 'support', 'payment', 'login', 'secure', 'account', 'admin', 'administrator', 'root', 'blog', 'blogspot', 'wordpress', 'web', 'webs', 'website', 'net', 'org', 'in', 'co', 'cc', 'biz', 'info', 'name', 'pro', 'tel', 'mobi', 'aero', 'asia', 'cat', 'coop', 'jobs', 'museum', 'travel', 'arpa', 'root', 'local', 'onion', 'example', 'invalid', 'test', 'localhost', 'localdomain', 'local']\n",
    "    for subdomain in x.split('.'):\n",
    "        if subdomain in abnormal_subdomains:\n",
    "            return 1\n",
    "    return 0"
   ]
  },
  {
   "cell_type": "markdown",
   "metadata": {},
   "source": [
    "#### Preprocesamiento"
   ]
  },
  {
   "cell_type": "code",
   "execution_count": 12,
   "metadata": {},
   "outputs": [],
   "source": [
    "df['URL'] = df['URL'].str.strip(\"'\")"
   ]
  },
  {
   "cell_type": "code",
   "execution_count": 13,
   "metadata": {},
   "outputs": [
    {
     "name": "stdout",
     "output_type": "stream",
     "text": [
      "Label\n",
      "0    392924\n",
      "1    156422\n",
      "Name: count, dtype: int64\n"
     ]
    },
    {
     "data": {
      "text/html": [
       "<div>\n",
       "<style scoped>\n",
       "    .dataframe tbody tr th:only-of-type {\n",
       "        vertical-align: middle;\n",
       "    }\n",
       "\n",
       "    .dataframe tbody tr th {\n",
       "        vertical-align: top;\n",
       "    }\n",
       "\n",
       "    .dataframe thead th {\n",
       "        text-align: right;\n",
       "    }\n",
       "</style>\n",
       "<table border=\"1\" class=\"dataframe\">\n",
       "  <thead>\n",
       "    <tr style=\"text-align: right;\">\n",
       "      <th></th>\n",
       "      <th>URL</th>\n",
       "      <th>Label</th>\n",
       "      <th>ngrams</th>\n",
       "      <th>entropy</th>\n",
       "      <th>entropyRelative</th>\n",
       "      <th>vowel-cons</th>\n",
       "      <th>firstDigitIndex</th>\n",
       "      <th>length</th>\n",
       "      <th>digits</th>\n",
       "      <th>ip</th>\n",
       "      <th>special</th>\n",
       "      <th>port</th>\n",
       "      <th>subdomain</th>\n",
       "      <th>common</th>\n",
       "      <th>hyphen</th>\n",
       "      <th>doubleHyphen</th>\n",
       "      <th>shortening</th>\n",
       "      <th>abnormal</th>\n",
       "    </tr>\n",
       "  </thead>\n",
       "  <tbody>\n",
       "    <tr>\n",
       "      <th>292331</th>\n",
       "      <td>bizrate.com/bill-ranger-card/</td>\n",
       "      <td>0</td>\n",
       "      <td>1223.035015</td>\n",
       "      <td>3.935399</td>\n",
       "      <td>1.737476</td>\n",
       "      <td>0.500000</td>\n",
       "      <td>0</td>\n",
       "      <td>29</td>\n",
       "      <td>0</td>\n",
       "      <td>0</td>\n",
       "      <td>0</td>\n",
       "      <td>0</td>\n",
       "      <td>2</td>\n",
       "      <td>3</td>\n",
       "      <td>1</td>\n",
       "      <td>0</td>\n",
       "      <td>0</td>\n",
       "      <td>0</td>\n",
       "    </tr>\n",
       "    <tr>\n",
       "      <th>12338</th>\n",
       "      <td>www.nlpinschool.com/~hailagra/signin/enter_log...</td>\n",
       "      <td>1</td>\n",
       "      <td>701.108846</td>\n",
       "      <td>5.172622</td>\n",
       "      <td>1.338899</td>\n",
       "      <td>0.445946</td>\n",
       "      <td>55</td>\n",
       "      <td>123</td>\n",
       "      <td>4</td>\n",
       "      <td>0</td>\n",
       "      <td>1</td>\n",
       "      <td>0</td>\n",
       "      <td>5</td>\n",
       "      <td>3</td>\n",
       "      <td>0</td>\n",
       "      <td>0</td>\n",
       "      <td>0</td>\n",
       "      <td>0</td>\n",
       "    </tr>\n",
       "    <tr>\n",
       "      <th>105438</th>\n",
       "      <td>pravo.org.ru/write/dropbox/dropbox/mail.163.com/</td>\n",
       "      <td>1</td>\n",
       "      <td>899.740666</td>\n",
       "      <td>4.094842</td>\n",
       "      <td>2.100143</td>\n",
       "      <td>0.565217</td>\n",
       "      <td>41</td>\n",
       "      <td>48</td>\n",
       "      <td>3</td>\n",
       "      <td>0</td>\n",
       "      <td>0</td>\n",
       "      <td>0</td>\n",
       "      <td>5</td>\n",
       "      <td>3</td>\n",
       "      <td>0</td>\n",
       "      <td>0</td>\n",
       "      <td>0</td>\n",
       "      <td>1</td>\n",
       "    </tr>\n",
       "    <tr>\n",
       "      <th>170624</th>\n",
       "      <td>en.wikipedia.org/wiki/2010%E2%80%9311_Toronto_...</td>\n",
       "      <td>0</td>\n",
       "      <td>929.264852</td>\n",
       "      <td>4.615573</td>\n",
       "      <td>3.106905</td>\n",
       "      <td>0.909091</td>\n",
       "      <td>23</td>\n",
       "      <td>64</td>\n",
       "      <td>11</td>\n",
       "      <td>0</td>\n",
       "      <td>1</td>\n",
       "      <td>0</td>\n",
       "      <td>3</td>\n",
       "      <td>1</td>\n",
       "      <td>0</td>\n",
       "      <td>0</td>\n",
       "      <td>0</td>\n",
       "      <td>0</td>\n",
       "    </tr>\n",
       "    <tr>\n",
       "      <th>344028</th>\n",
       "      <td>gamefaqs.com/ps/197338-final-fantasy-ix/faqs/5...</td>\n",
       "      <td>0</td>\n",
       "      <td>775.286162</td>\n",
       "      <td>4.398563</td>\n",
       "      <td>2.279385</td>\n",
       "      <td>0.476190</td>\n",
       "      <td>17</td>\n",
       "      <td>50</td>\n",
       "      <td>11</td>\n",
       "      <td>0</td>\n",
       "      <td>0</td>\n",
       "      <td>0</td>\n",
       "      <td>2</td>\n",
       "      <td>2</td>\n",
       "      <td>1</td>\n",
       "      <td>0</td>\n",
       "      <td>0</td>\n",
       "      <td>0</td>\n",
       "    </tr>\n",
       "  </tbody>\n",
       "</table>\n",
       "</div>"
      ],
      "text/plain": [
       "                                                      URL  Label       ngrams  \\\n",
       "292331                      bizrate.com/bill-ranger-card/      0  1223.035015   \n",
       "12338   www.nlpinschool.com/~hailagra/signin/enter_log...      1   701.108846   \n",
       "105438   pravo.org.ru/write/dropbox/dropbox/mail.163.com/      1   899.740666   \n",
       "170624  en.wikipedia.org/wiki/2010%E2%80%9311_Toronto_...      0   929.264852   \n",
       "344028  gamefaqs.com/ps/197338-final-fantasy-ix/faqs/5...      0   775.286162   \n",
       "\n",
       "         entropy  entropyRelative  vowel-cons  firstDigitIndex  length  \\\n",
       "292331  3.935399         1.737476    0.500000                0      29   \n",
       "12338   5.172622         1.338899    0.445946               55     123   \n",
       "105438  4.094842         2.100143    0.565217               41      48   \n",
       "170624  4.615573         3.106905    0.909091               23      64   \n",
       "344028  4.398563         2.279385    0.476190               17      50   \n",
       "\n",
       "        digits  ip  special  port  subdomain  common  hyphen  doubleHyphen  \\\n",
       "292331       0   0        0     0          2       3       1             0   \n",
       "12338        4   0        1     0          5       3       0             0   \n",
       "105438       3   0        0     0          5       3       0             0   \n",
       "170624      11   0        1     0          3       1       0             0   \n",
       "344028      11   0        0     0          2       2       1             0   \n",
       "\n",
       "        shortening  abnormal  \n",
       "292331           0         0  \n",
       "12338            0         0  \n",
       "105438           0         1  \n",
       "170624           0         0  \n",
       "344028           0         0  "
      ]
     },
     "execution_count": 13,
     "metadata": {},
     "output_type": "execute_result"
    }
   ],
   "source": [
    "df['ngrams'] = df['URL'].apply(lambda x: average_ngram_feature([ngram_feature(x, d, 1),\n",
    "                                                                ngram_feature(x, d, 2),\n",
    "                                                                ngram_feature(x, d, 3)]))\n",
    "\n",
    "df['entropy'] = df['URL'].apply(entropyShanon)\n",
    "df['entropyRelative'] = df['URL'].apply(relative_entropy)\n",
    "df['vowel-cons'] = df['URL'].apply(vowel_consonant_ratio)\n",
    "df['firstDigitIndex'] = df['URL'].apply(firstDigitIndex)\n",
    "df['length'] = df['URL'].str.len()\n",
    "df['digits'] = df['URL'].str.count('[0-9]')\n",
    "\n",
    "#Ip address presence\n",
    "df['ip'] = df['URL'].apply(ip_address_presence)\n",
    "#Special characters presence\n",
    "df['special'] = df['URL'].apply(special_chars_presence)\n",
    "#Port presence\n",
    "df['port'] = df['URL'].apply(port_presence)\n",
    "#Subdomain count\n",
    "df['subdomain'] = df['URL'].apply(subdomain_count)\n",
    "#Common terms count\n",
    "df['common'] = df['URL'].apply(common_terms_count)\n",
    "#Hyphen presence\n",
    "df['hyphen'] = df['URL'].apply(hyphen_presence)\n",
    "#Double hyphen presence\n",
    "df['doubleHyphen'] = df['URL'].apply(double_hyphen_presence)\n",
    "#Shortening service presence\n",
    "df['shortening'] = df['URL'].apply(shortening_service_presence)\n",
    "#Abnormal subdomain presence\n",
    "df['abnormal'] = df['URL'].apply(abnormal_subdomain_presence)\n",
    "\n",
    "df['Label'] = df['Label'].map({'good': 0, 'bad': 1})\n",
    "print(df[\"Label\"].value_counts())\n",
    "df.sample(n=10).head()\n"
   ]
  },
  {
   "cell_type": "code",
   "execution_count": 33,
   "metadata": {},
   "outputs": [
    {
     "data": {
      "text/plain": [
       "<Axes: xlabel='Label', ylabel='count'>"
      ]
     },
     "execution_count": 33,
     "metadata": {},
     "output_type": "execute_result"
    },
    {
     "data": {
      "image/png": "[encoded data removed]",
      "text/plain": [
       "<Figure size 640x480 with 1 Axes>"
      ]
     },
     "metadata": {},
     "output_type": "display_data"
    }
   ],
   "source": [
    "sns.countplot(x='Label', data=df, hue='Label')"
   ]
  },
  {
   "cell_type": "markdown",
   "metadata": {},
   "source": [
    "#### Balanceo de data"
   ]
  },
  {
   "cell_type": "code",
   "execution_count": 15,
   "metadata": {},
   "outputs": [],
   "source": [
    "# Balanceo de data\n",
    "# Under-sampling\n",
    "safe_urls = df[df['Label'] == 0]\n",
    "phishing_urls = df[df['Label'] == 1]\n",
    "safe_urls = safe_urls.sample(phishing_urls.shape[0])\n",
    "\n",
    "data = pd.concat([safe_urls, phishing_urls], axis=0, ignore_index=True)\n"
   ]
  },
  {
   "cell_type": "code",
   "execution_count": 16,
   "metadata": {},
   "outputs": [
    {
     "data": {
      "text/html": [
       "<div>\n",
       "<style scoped>\n",
       "    .dataframe tbody tr th:only-of-type {\n",
       "        vertical-align: middle;\n",
       "    }\n",
       "\n",
       "    .dataframe tbody tr th {\n",
       "        vertical-align: top;\n",
       "    }\n",
       "\n",
       "    .dataframe thead th {\n",
       "        text-align: right;\n",
       "    }\n",
       "</style>\n",
       "<table border=\"1\" class=\"dataframe\">\n",
       "  <thead>\n",
       "    <tr style=\"text-align: right;\">\n",
       "      <th></th>\n",
       "      <th>Label</th>\n",
       "      <th>ngrams</th>\n",
       "      <th>entropy</th>\n",
       "      <th>entropyRelative</th>\n",
       "      <th>vowel-cons</th>\n",
       "      <th>firstDigitIndex</th>\n",
       "      <th>length</th>\n",
       "      <th>digits</th>\n",
       "      <th>ip</th>\n",
       "      <th>special</th>\n",
       "      <th>port</th>\n",
       "      <th>subdomain</th>\n",
       "      <th>common</th>\n",
       "      <th>hyphen</th>\n",
       "      <th>doubleHyphen</th>\n",
       "      <th>shortening</th>\n",
       "      <th>abnormal</th>\n",
       "    </tr>\n",
       "  </thead>\n",
       "  <tbody>\n",
       "    <tr>\n",
       "      <th>0</th>\n",
       "      <td>0</td>\n",
       "      <td>1196.766005</td>\n",
       "      <td>4.164326</td>\n",
       "      <td>1.132966</td>\n",
       "      <td>0.607143</td>\n",
       "      <td>0</td>\n",
       "      <td>54</td>\n",
       "      <td>0</td>\n",
       "      <td>0</td>\n",
       "      <td>0</td>\n",
       "      <td>0</td>\n",
       "      <td>2</td>\n",
       "      <td>1</td>\n",
       "      <td>0</td>\n",
       "      <td>0</td>\n",
       "      <td>0</td>\n",
       "      <td>0</td>\n",
       "    </tr>\n",
       "    <tr>\n",
       "      <th>1</th>\n",
       "      <td>0</td>\n",
       "      <td>1255.705502</td>\n",
       "      <td>4.399845</td>\n",
       "      <td>1.202801</td>\n",
       "      <td>0.676471</td>\n",
       "      <td>23</td>\n",
       "      <td>139</td>\n",
       "      <td>8</td>\n",
       "      <td>0</td>\n",
       "      <td>0</td>\n",
       "      <td>0</td>\n",
       "      <td>3</td>\n",
       "      <td>4</td>\n",
       "      <td>1</td>\n",
       "      <td>0</td>\n",
       "      <td>0</td>\n",
       "      <td>0</td>\n",
       "    </tr>\n",
       "    <tr>\n",
       "      <th>2</th>\n",
       "      <td>0</td>\n",
       "      <td>1045.784702</td>\n",
       "      <td>4.128494</td>\n",
       "      <td>2.230908</td>\n",
       "      <td>0.454545</td>\n",
       "      <td>3</td>\n",
       "      <td>39</td>\n",
       "      <td>1</td>\n",
       "      <td>0</td>\n",
       "      <td>0</td>\n",
       "      <td>0</td>\n",
       "      <td>3</td>\n",
       "      <td>3</td>\n",
       "      <td>0</td>\n",
       "      <td>0</td>\n",
       "      <td>0</td>\n",
       "      <td>0</td>\n",
       "    </tr>\n",
       "    <tr>\n",
       "      <th>3</th>\n",
       "      <td>0</td>\n",
       "      <td>809.587311</td>\n",
       "      <td>4.726929</td>\n",
       "      <td>2.361832</td>\n",
       "      <td>0.384615</td>\n",
       "      <td>16</td>\n",
       "      <td>54</td>\n",
       "      <td>8</td>\n",
       "      <td>0</td>\n",
       "      <td>1</td>\n",
       "      <td>0</td>\n",
       "      <td>3</td>\n",
       "      <td>2</td>\n",
       "      <td>0</td>\n",
       "      <td>0</td>\n",
       "      <td>0</td>\n",
       "      <td>0</td>\n",
       "    </tr>\n",
       "    <tr>\n",
       "      <th>4</th>\n",
       "      <td>0</td>\n",
       "      <td>758.179487</td>\n",
       "      <td>4.469670</td>\n",
       "      <td>1.125339</td>\n",
       "      <td>0.500000</td>\n",
       "      <td>19</td>\n",
       "      <td>26</td>\n",
       "      <td>8</td>\n",
       "      <td>0</td>\n",
       "      <td>0</td>\n",
       "      <td>0</td>\n",
       "      <td>2</td>\n",
       "      <td>1</td>\n",
       "      <td>0</td>\n",
       "      <td>0</td>\n",
       "      <td>0</td>\n",
       "      <td>0</td>\n",
       "    </tr>\n",
       "  </tbody>\n",
       "</table>\n",
       "</div>"
      ],
      "text/plain": [
       "   Label       ngrams   entropy  entropyRelative  vowel-cons  firstDigitIndex  \\\n",
       "0      0  1196.766005  4.164326         1.132966    0.607143                0   \n",
       "1      0  1255.705502  4.399845         1.202801    0.676471               23   \n",
       "2      0  1045.784702  4.128494         2.230908    0.454545                3   \n",
       "3      0   809.587311  4.726929         2.361832    0.384615               16   \n",
       "4      0   758.179487  4.469670         1.125339    0.500000               19   \n",
       "\n",
       "   length  digits  ip  special  port  subdomain  common  hyphen  doubleHyphen  \\\n",
       "0      54       0   0        0     0          2       1       0             0   \n",
       "1     139       8   0        0     0          3       4       1             0   \n",
       "2      39       1   0        0     0          3       3       0             0   \n",
       "3      54       8   0        1     0          3       2       0             0   \n",
       "4      26       8   0        0     0          2       1       0             0   \n",
       "\n",
       "   shortening  abnormal  \n",
       "0           0         0  \n",
       "1           0         0  \n",
       "2           0         0  \n",
       "3           0         0  \n",
       "4           0         0  "
      ]
     },
     "execution_count": 16,
     "metadata": {},
     "output_type": "execute_result"
    }
   ],
   "source": [
    "# Remove URL column\n",
    "data = data.drop(['URL'], axis=1)\n",
    "data.head()"
   ]
  },
  {
   "cell_type": "code",
   "execution_count": 17,
   "metadata": {},
   "outputs": [
    {
     "data": {
      "text/html": [
       "<div>\n",
       "<style scoped>\n",
       "    .dataframe tbody tr th:only-of-type {\n",
       "        vertical-align: middle;\n",
       "    }\n",
       "\n",
       "    .dataframe tbody tr th {\n",
       "        vertical-align: top;\n",
       "    }\n",
       "\n",
       "    .dataframe thead th {\n",
       "        text-align: right;\n",
       "    }\n",
       "</style>\n",
       "<table border=\"1\" class=\"dataframe\">\n",
       "  <thead>\n",
       "    <tr style=\"text-align: right;\">\n",
       "      <th></th>\n",
       "      <th>Label</th>\n",
       "      <th>ngrams</th>\n",
       "      <th>entropy</th>\n",
       "      <th>entropyRelative</th>\n",
       "      <th>vowel-cons</th>\n",
       "      <th>firstDigitIndex</th>\n",
       "      <th>length</th>\n",
       "      <th>digits</th>\n",
       "      <th>ip</th>\n",
       "      <th>special</th>\n",
       "      <th>port</th>\n",
       "      <th>subdomain</th>\n",
       "      <th>common</th>\n",
       "      <th>hyphen</th>\n",
       "      <th>doubleHyphen</th>\n",
       "      <th>shortening</th>\n",
       "      <th>abnormal</th>\n",
       "    </tr>\n",
       "  </thead>\n",
       "  <tbody>\n",
       "    <tr>\n",
       "      <th>0</th>\n",
       "      <td>1</td>\n",
       "      <td>1304.210504</td>\n",
       "      <td>4.177546</td>\n",
       "      <td>2.126241</td>\n",
       "      <td>0.487179</td>\n",
       "      <td>11</td>\n",
       "      <td>65</td>\n",
       "      <td>2</td>\n",
       "      <td>0</td>\n",
       "      <td>0</td>\n",
       "      <td>0</td>\n",
       "      <td>4</td>\n",
       "      <td>2</td>\n",
       "      <td>0</td>\n",
       "      <td>0</td>\n",
       "      <td>0</td>\n",
       "      <td>0</td>\n",
       "    </tr>\n",
       "    <tr>\n",
       "      <th>1</th>\n",
       "      <td>1</td>\n",
       "      <td>558.584506</td>\n",
       "      <td>4.722960</td>\n",
       "      <td>1.766666</td>\n",
       "      <td>0.530612</td>\n",
       "      <td>11</td>\n",
       "      <td>164</td>\n",
       "      <td>78</td>\n",
       "      <td>0</td>\n",
       "      <td>1</td>\n",
       "      <td>0</td>\n",
       "      <td>4</td>\n",
       "      <td>3</td>\n",
       "      <td>1</td>\n",
       "      <td>0</td>\n",
       "      <td>0</td>\n",
       "      <td>0</td>\n",
       "    </tr>\n",
       "    <tr>\n",
       "      <th>2</th>\n",
       "      <td>0</td>\n",
       "      <td>1000.511072</td>\n",
       "      <td>3.238901</td>\n",
       "      <td>2.397952</td>\n",
       "      <td>0.571429</td>\n",
       "      <td>0</td>\n",
       "      <td>13</td>\n",
       "      <td>0</td>\n",
       "      <td>0</td>\n",
       "      <td>0</td>\n",
       "      <td>0</td>\n",
       "      <td>2</td>\n",
       "      <td>2</td>\n",
       "      <td>0</td>\n",
       "      <td>0</td>\n",
       "      <td>0</td>\n",
       "      <td>0</td>\n",
       "    </tr>\n",
       "    <tr>\n",
       "      <th>3</th>\n",
       "      <td>0</td>\n",
       "      <td>1263.144544</td>\n",
       "      <td>4.194843</td>\n",
       "      <td>1.624791</td>\n",
       "      <td>0.694915</td>\n",
       "      <td>0</td>\n",
       "      <td>118</td>\n",
       "      <td>0</td>\n",
       "      <td>0</td>\n",
       "      <td>0</td>\n",
       "      <td>0</td>\n",
       "      <td>4</td>\n",
       "      <td>3</td>\n",
       "      <td>1</td>\n",
       "      <td>0</td>\n",
       "      <td>0</td>\n",
       "      <td>0</td>\n",
       "    </tr>\n",
       "    <tr>\n",
       "      <th>4</th>\n",
       "      <td>1</td>\n",
       "      <td>1191.192764</td>\n",
       "      <td>3.691428</td>\n",
       "      <td>3.699801</td>\n",
       "      <td>0.555556</td>\n",
       "      <td>0</td>\n",
       "      <td>32</td>\n",
       "      <td>0</td>\n",
       "      <td>0</td>\n",
       "      <td>0</td>\n",
       "      <td>0</td>\n",
       "      <td>4</td>\n",
       "      <td>3</td>\n",
       "      <td>0</td>\n",
       "      <td>0</td>\n",
       "      <td>1</td>\n",
       "      <td>0</td>\n",
       "    </tr>\n",
       "  </tbody>\n",
       "</table>\n",
       "</div>"
      ],
      "text/plain": [
       "   Label       ngrams   entropy  entropyRelative  vowel-cons  firstDigitIndex  \\\n",
       "0      1  1304.210504  4.177546         2.126241    0.487179               11   \n",
       "1      1   558.584506  4.722960         1.766666    0.530612               11   \n",
       "2      0  1000.511072  3.238901         2.397952    0.571429                0   \n",
       "3      0  1263.144544  4.194843         1.624791    0.694915                0   \n",
       "4      1  1191.192764  3.691428         3.699801    0.555556                0   \n",
       "\n",
       "   length  digits  ip  special  port  subdomain  common  hyphen  doubleHyphen  \\\n",
       "0      65       2   0        0     0          4       2       0             0   \n",
       "1     164      78   0        1     0          4       3       1             0   \n",
       "2      13       0   0        0     0          2       2       0             0   \n",
       "3     118       0   0        0     0          4       3       1             0   \n",
       "4      32       0   0        0     0          4       3       0             0   \n",
       "\n",
       "   shortening  abnormal  \n",
       "0           0         0  \n",
       "1           0         0  \n",
       "2           0         0  \n",
       "3           0         0  \n",
       "4           1         0  "
      ]
     },
     "execution_count": 17,
     "metadata": {},
     "output_type": "execute_result"
    }
   ],
   "source": [
    "# Randomize positions of rows\n",
    "data = data.sample(frac=1).reset_index(drop=True)\n",
    "data.head()"
   ]
  },
  {
   "cell_type": "code",
   "execution_count": 18,
   "metadata": {},
   "outputs": [
    {
     "data": {
      "text/plain": [
       "Label              0\n",
       "ngrams             0\n",
       "entropy            0\n",
       "entropyRelative    0\n",
       "vowel-cons         0\n",
       "firstDigitIndex    0\n",
       "length             0\n",
       "digits             0\n",
       "ip                 0\n",
       "special            0\n",
       "port               0\n",
       "subdomain          0\n",
       "common             0\n",
       "hyphen             0\n",
       "doubleHyphen       0\n",
       "shortening         0\n",
       "abnormal           0\n",
       "dtype: int64"
      ]
     },
     "execution_count": 18,
     "metadata": {},
     "output_type": "execute_result"
    }
   ],
   "source": [
    "# Clean NaN values\n",
    "data = data.dropna()\n",
    "data.isnull().sum()"
   ]
  },
  {
   "cell_type": "code",
   "execution_count": 34,
   "metadata": {},
   "outputs": [
    {
     "name": "stdout",
     "output_type": "stream",
     "text": [
      "(312695, 17)\n"
     ]
    },
    {
     "data": {
      "text/plain": [
       "<Axes: xlabel='Label', ylabel='count'>"
      ]
     },
     "execution_count": 34,
     "metadata": {},
     "output_type": "execute_result"
    },
    {
     "data": {
      "image/png": "[encoded data removed]",
      "text/plain": [
       "<Figure size 640x480 with 1 Axes>"
      ]
     },
     "metadata": {},
     "output_type": "display_data"
    }
   ],
   "source": [
    "print(data.shape)\n",
    "sns.countplot(x='Label', data=data, hue='Label')"
   ]
  },
  {
   "cell_type": "code",
   "execution_count": 20,
   "metadata": {},
   "outputs": [],
   "source": [
    "# Guardar el dataset limpio\n",
    "data.to_csv('datasets/URLs/phishing_site_urls_clean.csv', index=False)"
   ]
  },
  {
   "cell_type": "code",
   "execution_count": 21,
   "metadata": {},
   "outputs": [],
   "source": [
    "data = pd.read_csv('datasets/URLs/phishing_site_urls_clean.csv')"
   ]
  },
  {
   "cell_type": "markdown",
   "metadata": {},
   "source": [
    "# Entrenamiento de modelos"
   ]
  },
  {
   "cell_type": "markdown",
   "metadata": {},
   "source": [
    "### Modelos a utilizar: SVM, Random Forest y Naive Bayes"
   ]
  },
  {
   "cell_type": "code",
   "execution_count": 22,
   "metadata": {},
   "outputs": [],
   "source": [
    "from sklearn.model_selection import train_test_split\n",
    "from sklearn.svm import SVC\n",
    "from sklearn.ensemble import RandomForestClassifier\n",
    "from sklearn.naive_bayes import MultinomialNB\n",
    "from sklearn.metrics import classification_report, confusion_matrix\n",
    "\n",
    "X = data.drop('Label', axis=1)\n",
    "y = data['Label']\n",
    "X_train, X_test, y_train, y_test = train_test_split(X, y)"
   ]
  },
  {
   "cell_type": "code",
   "execution_count": 23,
   "metadata": {},
   "outputs": [
    {
     "name": "stdout",
     "output_type": "stream",
     "text": [
      "(234521, 16)\n",
      "(78174, 16)\n",
      "(234521,)\n",
      "(78174,)\n"
     ]
    }
   ],
   "source": [
    "print(X_train.shape)\n",
    "print(X_test.shape)\n",
    "print(y_train.shape)\n",
    "print(y_test.shape)"
   ]
  },
  {
   "cell_type": "markdown",
   "metadata": {},
   "source": [
    "### LazyPredict"
   ]
  },
  {
   "cell_type": "code",
   "execution_count": 24,
   "metadata": {},
   "outputs": [
    {
     "name": "stderr",
     "output_type": "stream",
     "text": [
      "100%|██████████| 29/29 [3:22:52<00:00, 419.72s/it]   "
     ]
    },
    {
     "name": "stdout",
     "output_type": "stream",
     "text": [
      "                               Accuracy  Balanced Accuracy  ROC AUC  F1 Score  \\\n",
      "Model                                                                           \n",
      "ExtraTreesClassifier               0.88               0.88     0.88      0.88   \n",
      "RandomForestClassifier             0.88               0.88     0.88      0.88   \n",
      "BaggingClassifier                  0.87               0.87     0.87      0.87   \n",
      "DecisionTreeClassifier             0.83               0.83     0.83      0.83   \n",
      "XGBClassifier                      0.82               0.82     0.82      0.82   \n",
      "ExtraTreeClassifier                0.82               0.82     0.82      0.82   \n",
      "KNeighborsClassifier               0.81               0.81     0.81      0.81   \n",
      "LGBMClassifier                     0.80               0.80     0.80      0.80   \n",
      "NuSVC                              0.79               0.79     0.79      0.79   \n",
      "SVC                                0.78               0.78     0.78      0.78   \n",
      "AdaBoostClassifier                 0.74               0.74     0.74      0.74   \n",
      "CalibratedClassifierCV             0.67               0.67     0.67      0.67   \n",
      "LinearSVC                          0.67               0.67     0.67      0.67   \n",
      "LogisticRegression                 0.67               0.67     0.67      0.67   \n",
      "SGDClassifier                      0.67               0.67     0.67      0.66   \n",
      "LinearDiscriminantAnalysis         0.66               0.66     0.66      0.66   \n",
      "RidgeClassifier                    0.66               0.66     0.66      0.66   \n",
      "RidgeClassifierCV                  0.66               0.66     0.66      0.66   \n",
      "QuadraticDiscriminantAnalysis      0.64               0.64     0.64      0.59   \n",
      "GaussianNB                         0.63               0.63     0.63      0.59   \n",
      "Perceptron                         0.63               0.63     0.63      0.63   \n",
      "BernoulliNB                        0.62               0.62     0.62      0.62   \n",
      "NearestCentroid                    0.62               0.62     0.62      0.61   \n",
      "PassiveAggressiveClassifier        0.55               0.55     0.55      0.53   \n",
      "DummyClassifier                    0.50               0.50     0.50      0.33   \n",
      "\n",
      "                               Time Taken  \n",
      "Model                                      \n",
      "ExtraTreesClassifier                47.09  \n",
      "RandomForestClassifier              72.42  \n",
      "BaggingClassifier                   35.52  \n",
      "DecisionTreeClassifier               4.45  \n",
      "XGBClassifier                       12.96  \n",
      "ExtraTreeClassifier                  0.76  \n",
      "KNeighborsClassifier                30.33  \n",
      "LGBMClassifier                       2.15  \n",
      "NuSVC                             7700.24  \n",
      "SVC                               3774.78  \n",
      "AdaBoostClassifier                  22.00  \n",
      "CalibratedClassifierCV             387.97  \n",
      "LinearSVC                           71.94  \n",
      "LogisticRegression                   0.76  \n",
      "SGDClassifier                        1.04  \n",
      "LinearDiscriminantAnalysis           0.67  \n",
      "RidgeClassifier                      0.51  \n",
      "RidgeClassifierCV                    0.86  \n",
      "QuadraticDiscriminantAnalysis        0.65  \n",
      "GaussianNB                           0.48  \n",
      "Perceptron                           1.34  \n",
      "BernoulliNB                          0.61  \n",
      "NearestCentroid                      0.36  \n",
      "PassiveAggressiveClassifier          0.85  \n",
      "DummyClassifier                      0.36  \n"
     ]
    },
    {
     "name": "stderr",
     "output_type": "stream",
     "text": [
      "\n"
     ]
    }
   ],
   "source": [
    "from lazypredict.Supervised import LazyClassifier\n",
    "clf = LazyClassifier(verbose=0, ignore_warnings=True, custom_metric=None)\n",
    "\n",
    "models, predictions = clf.fit(X_train, X_test, y_train, y_test)\n",
    "\n",
    "print(models)"
   ]
  },
  {
   "cell_type": "code",
   "execution_count": 25,
   "metadata": {},
   "outputs": [
    {
     "data": {
      "text/html": [
       "<div>\n",
       "<style scoped>\n",
       "    .dataframe tbody tr th:only-of-type {\n",
       "        vertical-align: middle;\n",
       "    }\n",
       "\n",
       "    .dataframe tbody tr th {\n",
       "        vertical-align: top;\n",
       "    }\n",
       "\n",
       "    .dataframe thead th {\n",
       "        text-align: right;\n",
       "    }\n",
       "</style>\n",
       "<table border=\"1\" class=\"dataframe\">\n",
       "  <thead>\n",
       "    <tr style=\"text-align: right;\">\n",
       "      <th></th>\n",
       "      <th>Accuracy</th>\n",
       "      <th>Balanced Accuracy</th>\n",
       "      <th>ROC AUC</th>\n",
       "      <th>F1 Score</th>\n",
       "      <th>Time Taken</th>\n",
       "    </tr>\n",
       "    <tr>\n",
       "      <th>Model</th>\n",
       "      <th></th>\n",
       "      <th></th>\n",
       "      <th></th>\n",
       "      <th></th>\n",
       "      <th></th>\n",
       "    </tr>\n",
       "  </thead>\n",
       "  <tbody>\n",
       "    <tr>\n",
       "      <th>ExtraTreesClassifier</th>\n",
       "      <td>0.88</td>\n",
       "      <td>0.88</td>\n",
       "      <td>0.88</td>\n",
       "      <td>0.88</td>\n",
       "      <td>47.09</td>\n",
       "    </tr>\n",
       "    <tr>\n",
       "      <th>RandomForestClassifier</th>\n",
       "      <td>0.88</td>\n",
       "      <td>0.88</td>\n",
       "      <td>0.88</td>\n",
       "      <td>0.88</td>\n",
       "      <td>72.42</td>\n",
       "    </tr>\n",
       "    <tr>\n",
       "      <th>BaggingClassifier</th>\n",
       "      <td>0.87</td>\n",
       "      <td>0.87</td>\n",
       "      <td>0.87</td>\n",
       "      <td>0.87</td>\n",
       "      <td>35.52</td>\n",
       "    </tr>\n",
       "    <tr>\n",
       "      <th>DecisionTreeClassifier</th>\n",
       "      <td>0.83</td>\n",
       "      <td>0.83</td>\n",
       "      <td>0.83</td>\n",
       "      <td>0.83</td>\n",
       "      <td>4.45</td>\n",
       "    </tr>\n",
       "    <tr>\n",
       "      <th>XGBClassifier</th>\n",
       "      <td>0.82</td>\n",
       "      <td>0.82</td>\n",
       "      <td>0.82</td>\n",
       "      <td>0.82</td>\n",
       "      <td>12.96</td>\n",
       "    </tr>\n",
       "  </tbody>\n",
       "</table>\n",
       "</div>"
      ],
      "text/plain": [
       "                        Accuracy  Balanced Accuracy  ROC AUC  F1 Score  \\\n",
       "Model                                                                    \n",
       "ExtraTreesClassifier        0.88               0.88     0.88      0.88   \n",
       "RandomForestClassifier      0.88               0.88     0.88      0.88   \n",
       "BaggingClassifier           0.87               0.87     0.87      0.87   \n",
       "DecisionTreeClassifier      0.83               0.83     0.83      0.83   \n",
       "XGBClassifier               0.82               0.82     0.82      0.82   \n",
       "\n",
       "                        Time Taken  \n",
       "Model                               \n",
       "ExtraTreesClassifier         47.09  \n",
       "RandomForestClassifier       72.42  \n",
       "BaggingClassifier            35.52  \n",
       "DecisionTreeClassifier        4.45  \n",
       "XGBClassifier                12.96  "
      ]
     },
     "execution_count": 25,
     "metadata": {},
     "output_type": "execute_result"
    }
   ],
   "source": [
    "# Show the top 5 models\n",
    "models.head(5)\n"
   ]
  },
  {
   "cell_type": "markdown",
   "metadata": {},
   "source": [
    "#### Random Forest"
   ]
  },
  {
   "cell_type": "code",
   "execution_count": 24,
   "metadata": {},
   "outputs": [
    {
     "name": "stdout",
     "output_type": "stream",
     "text": [
      "              precision    recall  f1-score   support\n",
      "\n",
      "           0       0.88      0.89      0.88     39134\n",
      "           1       0.89      0.87      0.88     39040\n",
      "\n",
      "    accuracy                           0.88     78174\n",
      "   macro avg       0.88      0.88      0.88     78174\n",
      "weighted avg       0.88      0.88      0.88     78174\n",
      "\n"
     ]
    },
    {
     "data": {
      "image/png": "[encoded data removed]",
      "text/plain": [
       "<Figure size 640x480 with 2 Axes>"
      ]
     },
     "metadata": {},
     "output_type": "display_data"
    }
   ],
   "source": [
    "model_Random_Forest = RandomForestClassifier(n_estimators=100)\n",
    "model_Random_Forest.fit(X_train, y_train)\n",
    "\n",
    "predictions = model_Random_Forest.predict(X_test)\n",
    "\n",
    "# Graph confusion matrix\n",
    "cm = confusion_matrix(y_test, predictions)\n",
    "group_names = ['True Neg','False Pos','False Neg','True Pos']\n",
    "group_counts = ['{0:0.0f}'.format(value) for value in cm.flatten()]\n",
    "\n",
    "group_percentages = ['{0:.2%}'.format(value) for value in cm.flatten()/np.sum(cm)]\n",
    "\n",
    "labels = [f'{v1}\\n{v2}\\n{v3}' for v1, v2, v3 in zip(group_names,group_counts,group_percentages)]\n",
    "\n",
    "labels = np.asarray(labels).reshape(2,2)\n",
    "\n",
    "sns.heatmap(cm, annot=labels, fmt='', cmap='Blues')\n",
    "plt.xlabel('Predicted')\n",
    "plt.ylabel('Actual')\n",
    "\n",
    "print(classification_report(y_test, predictions))"
   ]
  },
  {
   "cell_type": "code",
   "execution_count": 25,
   "metadata": {},
   "outputs": [
    {
     "data": {
      "image/png": "[encoded data removed]",
      "text/plain": [
       "<Figure size 640x480 with 1 Axes>"
      ]
     },
     "metadata": {},
     "output_type": "display_data"
    }
   ],
   "source": [
    "# Graph Feature Importance\n",
    "feature_importances = pd.Series(model_Random_Forest.feature_importances_, index=X.columns)\n",
    "feature_importances.nlargest(10).plot(kind='barh')\n",
    "plt.show()"
   ]
  },
  {
   "cell_type": "code",
   "execution_count": 26,
   "metadata": {},
   "outputs": [
    {
     "data": {
      "image/png": "[encoded data removed]",
      "text/plain": [
       "<Figure size 640x480 with 1 Axes>"
      ]
     },
     "metadata": {},
     "output_type": "display_data"
    }
   ],
   "source": [
    "# Graph roc curve and auc score\n",
    "from sklearn.metrics import roc_curve, auc\n",
    "\n",
    "probabilities = model_Random_Forest.predict_proba(X_test)\n",
    "fpr, tpr, _ = roc_curve(y_test, probabilities[:, 1])\n",
    "roc_auc = auc(fpr, tpr)\n",
    "\n",
    "plt.figure()\n",
    "plt.plot(fpr, tpr, color='darkorange', lw=2, label='ROC curve (area = %0.2f)' % roc_auc)\n",
    "plt.plot([0, 1], [0, 1], color='navy', lw=2, linestyle='--')\n",
    "plt.xlim([0.0, 1.0])\n",
    "plt.ylim([0.0, 1.05])\n",
    "plt.xlabel('False Positive Rate')\n",
    "plt.ylabel('True Positive Rate')\n",
    "plt.title('Receiver Operating Characteristic')\n",
    "plt.legend(loc=\"lower right\")\n",
    "\n",
    "plt.show()\n"
   ]
  },
  {
   "cell_type": "code",
   "execution_count": 33,
   "metadata": {},
   "outputs": [
    {
     "name": "stdout",
     "output_type": "stream",
     "text": [
      "[0.89018228 0.89139751 0.89123413 0.88905945 0.89190572 0.88992293\n",
      " 0.8927692  0.88921935 0.89133007 0.89027471]\n",
      "0.89072953538716\n"
     ]
    }
   ],
   "source": [
    "# K fold Cross Validation\n",
    "from sklearn.model_selection import cross_val_score\n",
    "\n",
    "scores = cross_val_score(model_Random_Forest, X, y, cv=10, scoring='accuracy')\n",
    "\n",
    "print(\"Scores\")\n",
    "print(scores)\n",
    "\n",
    "# Overall model accuracy\n",
    "print(\"Overall Model Accuracy\")\n",
    "print(scores.mean())"
   ]
  },
  {
   "cell_type": "markdown",
   "metadata": {},
   "source": [
    "#### ExtraTreesClassifier"
   ]
  },
  {
   "cell_type": "code",
   "execution_count": 27,
   "metadata": {},
   "outputs": [
    {
     "name": "stdout",
     "output_type": "stream",
     "text": [
      "              precision    recall  f1-score   support\n",
      "\n",
      "           0       0.87      0.90      0.88     39134\n",
      "           1       0.90      0.86      0.88     39040\n",
      "\n",
      "    accuracy                           0.88     78174\n",
      "   macro avg       0.88      0.88      0.88     78174\n",
      "weighted avg       0.88      0.88      0.88     78174\n",
      "\n"
     ]
    },
    {
     "data": {
      "image/png": "[encoded data removed]",
      "text/plain": [
       "<Figure size 640x480 with 2 Axes>"
      ]
     },
     "metadata": {},
     "output_type": "display_data"
    }
   ],
   "source": [
    "from sklearn.ensemble import ExtraTreesClassifier\n",
    "model_Extra_Trees = ExtraTreesClassifier(n_estimators=100)\n",
    "model_Extra_Trees.fit(X_train, y_train)\n",
    "\n",
    "predictions = model_Extra_Trees.predict(X_test)\n",
    "\n",
    "# Graph confusion matrix\n",
    "group_names = ['True Neg','False Pos','False Neg','True Pos']\n",
    "group_counts = ['{0:0.0f}'.format(value) for value in cm.flatten()]\n",
    "\n",
    "group_percentages = ['{0:.2%}'.format(value) for value in cm.flatten()/np.sum(cm)]\n",
    "\n",
    "labels = [f'{v1}\\n{v2}\\n{v3}' for v1, v2, v3 in zip(group_names,group_counts,group_percentages)]\n",
    "\n",
    "labels = np.asarray(labels).reshape(2,2)\n",
    "\n",
    "sns.heatmap(cm, annot=labels, fmt='', cmap='Blues')\n",
    "plt.xlabel('Predicted')\n",
    "plt.ylabel('Actual')\n",
    "\n",
    "print(classification_report(y_test, predictions))"
   ]
  },
  {
   "cell_type": "code",
   "execution_count": 28,
   "metadata": {},
   "outputs": [
    {
     "data": {
      "image/png": "[encoded data removed]",
      "text/plain": [
       "<Figure size 640x480 with 1 Axes>"
      ]
     },
     "metadata": {},
     "output_type": "display_data"
    }
   ],
   "source": [
    "# Graph Feature Importance\n",
    "feature_importances = pd.Series(model_Extra_Trees.feature_importances_, index=X.columns)\n",
    "feature_importances.nlargest(10).plot(kind='barh')\n",
    "plt.show()\n"
   ]
  },
  {
   "cell_type": "code",
   "execution_count": 29,
   "metadata": {},
   "outputs": [
    {
     "data": {
      "image/png": "[encoded data removed]",
      "text/plain": [
       "<Figure size 640x480 with 1 Axes>"
      ]
     },
     "metadata": {},
     "output_type": "display_data"
    }
   ],
   "source": [
    "# Graph roc curve and auc score\n",
    "\n",
    "probabilities = model_Extra_Trees.predict_proba(X_test)\n",
    "fpr, tpr, _ = roc_curve(y_test, probabilities[:, 1])\n",
    "roc_auc = auc(fpr, tpr)\n",
    "\n",
    "plt.figure()\n",
    "plt.plot(fpr, tpr, color='darkorange', lw=2, label='ROC curve (area = %0.2f)' % roc_auc)\n",
    "plt.plot([0, 1], [0, 1], color='navy', lw=2, linestyle='--')\n",
    "plt.xlim([0.0, 1.0])\n",
    "plt.ylim([0.0, 1.05])\n",
    "plt.xlabel('False Positive Rate')\n",
    "plt.ylabel('True Positive Rate')\n",
    "plt.title('Receiver Operating Characteristic')\n",
    "plt.legend(loc=\"lower right\")\n",
    "\n",
    "plt.show()"
   ]
  },
  {
   "cell_type": "code",
   "execution_count": 34,
   "metadata": {},
   "outputs": [
    {
     "name": "stdout",
     "output_type": "stream",
     "text": [
      "Scores\n",
      "[0.89341222 0.89446754 0.8942403  0.89196968 0.89436822 0.89001887\n",
      " 0.89401644 0.89264127 0.89382455 0.89267325]\n",
      "Overall model accuracy\n",
      "0.8931632355375708\n"
     ]
    }
   ],
   "source": [
    "# K fold Cross Validation\n",
    "scores = cross_val_score(model_Extra_Trees, X, y, cv=10, scoring='accuracy')\n",
    "\n",
    "print(\"Scores\")\n",
    "print(scores)\n",
    "\n",
    "# Overall model accuracy\n",
    "print(\"Overall model accuracy\")\n",
    "print(scores.mean())"
   ]
  },
  {
   "cell_type": "code",
   "execution_count": 32,
   "metadata": {},
   "outputs": [
    {
     "data": {
      "text/plain": [
       "['./models/url_Extra_Trees_model.pkl']"
      ]
     },
     "execution_count": 32,
     "metadata": {},
     "output_type": "execute_result"
    }
   ],
   "source": [
    "# Guardar el modelo\n",
    "import joblib\n",
    "joblib.dump(model_Extra_Trees, './models/url_Extra_Trees_model.pkl')"
   ]
  }
 ],
 "metadata": {
  "kernelspec": {
   "display_name": "Python 3",
   "language": "python",
   "name": "python3"
  },
  "language_info": {
   "codemirror_mode": {
    "name": "ipython",
    "version": 3
   },
   "file_extension": ".py",
   "mimetype": "text/x-python",
   "name": "python",
   "nbconvert_exporter": "python",
   "pygments_lexer": "ipython3",
   "version": "3.10.5"
  }
 },
 "nbformat": 4,
 "nbformat_minor": 2
}
